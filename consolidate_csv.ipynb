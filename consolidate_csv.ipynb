{
 "cells": [
  {
   "cell_type": "code",
   "execution_count": 20,
   "metadata": {},
   "outputs": [],
   "source": [
    "import pandas as pd"
   ]
  },
  {
   "cell_type": "code",
   "execution_count": 21,
   "metadata": {},
   "outputs": [],
   "source": [
    "# read in CSV files\n",
    "# na_filter=False means fill empty cells with \"\" instead of \"NaN\"\n",
    "\n",
    "# Assumptions\n",
    "# - people.csv doesn't contain duplicate people (ex. John Smith & John Smith are different)\n",
    "# - paytrace_transactions.csv rows are in chronological order from top to bottom (most recent last)\n",
    "\n",
    "df_people = pd.read_csv('people.csv', header=0, na_filter=False)\n",
    "df_transactions = pd.read_csv('transactions.csv', header=0, na_filter=False)\n",
    "df_ptransactions = pd.read_csv('paytrace_transactions.csv', header=0, na_filter=False)"
   ]
  },
  {
   "cell_type": "code",
   "execution_count": 22,
   "metadata": {},
   "outputs": [],
   "source": [
    "# dictionaries of csv column labels\n",
    "# lookup name : name in CSV\n",
    "dict_people = {\"last\": \"[Name | Last]\", \n",
    "               \"first\": \"[Name | First]\", \n",
    "               \"middle\": \"[Name | Middle]\", \n",
    "               \"email\": \"[Email | Primary]\",\n",
    "               \"state\": \"[Address | Primary | State]\", \n",
    "               \"member_type\":\"[Member Type]\",\n",
    "}\n",
    "\n",
    "\n",
    "dict_trans = {\"last\": \"Last Name\", \n",
    "              \"first\": \"First Name\", \n",
    "              \"amt\": \"Amount\",\n",
    "              \"company\": \"Company\",\n",
    "}\n",
    "dict_merged = {\"first\":\"first\",\n",
    "               \"middle\": \"middle\",\n",
    "               \"last\":\"last\",\n",
    "               \"email\":\"email\",\n",
    "               \"member_type\": \"member type\",\n",
    "               \"state\": \"state\",\n",
    "}\n",
    "dict_ptrans = {\"name\":\"Billing_Name\",\n",
    "               \"recurring\": \"Invoice\",\n",
    "               \"state\": \"Billing_State\",\n",
    "               \"amt\": \"Amount\",\n",
    "               \"email\": \"User\",\n",
    "}\n",
    "us_state_abbrev = {\n",
    "    'Alabama': 'AL','Alaska': 'AK','American Samoa': 'AS','Arizona': 'AZ','Arkansas': 'AR',\n",
    "    'California': 'CA','Colorado': 'CO','Connecticut': 'CT','Delaware': 'DE','District of Columbia': 'DC',\n",
    "    'Florida': 'FL','Georgia': 'GA','Guam': 'GU','Hawaii': 'HI','Idaho': 'ID','Illinois': 'IL',\n",
    "    'Indiana': 'IN','Iowa': 'IA','Kansas': 'KS','Kentucky': 'KY','Louisiana': 'LA','Maine': 'ME',\n",
    "    'Maryland': 'MD','Massachusetts': 'MA','Michigan': 'MI','Minnesota': 'MN','Mississippi': 'MS',\n",
    "    'Missouri': 'MO','Montana': 'MT','Nebraska': 'NE','Nevada': 'NV','New Hampshire': 'NH',\n",
    "    'New Jersey': 'NJ','New Mexico': 'NM','New York': 'NY','North Carolina': 'NC','North Dakota': 'ND',\n",
    "    'Northern Mariana Islands':'MP','Ohio': 'OH','Oklahoma': 'OK','Oregon': 'OR','Pennsylvania': 'PA',\n",
    "    'Puerto Rico': 'PR','Rhode Island': 'RI','South Carolina': 'SC','South Dakota': 'SD',\n",
    "    'Tennessee': 'TN','Texas': 'TX','Utah': 'UT','Vermont': 'VT',\n",
    "    'Virgin Islands': 'VI','Virginia': 'VA','Washington': 'WA','West Virginia': 'WV',\n",
    "    'Wisconsin': 'WI','Wyoming': 'WY','':'',\n",
    "}"
   ]
  },
  {
   "cell_type": "code",
   "execution_count": 23,
   "metadata": {
    "scrolled": true
   },
   "outputs": [],
   "source": [
    "# table of people's names (unique)\n",
    "#df_people\n",
    "# table of transactions (names may repeat)\n",
    "#df_transactions\n",
    "# table of paytrace transactions (names may repeat)\n",
    "#df_ptransactions"
   ]
  },
  {
   "cell_type": "code",
   "execution_count": 24,
   "metadata": {},
   "outputs": [],
   "source": [
    "# TODO - CREATE LIST OF NON-UNIQUE NAMES IN CASE THERE ARE DUPLICATES IN THE PEOPLE TABLE"
   ]
  },
  {
   "cell_type": "code",
   "execution_count": 25,
   "metadata": {},
   "outputs": [],
   "source": [
    "# new_emails = []\n",
    "# for i, row in df_people.iterrows():\n",
    "#     new_emails.append(row[dict_people['email']].lower())\n",
    "# df_people[dict_people['email']] = new_emails\n",
    "    \n",
    "# new_emails = []\n",
    "# for i, row in df_ptransactions.iterrows():\n",
    "#     new_emails.append(row[dict_ptrans['email']].lower())\n",
    "# df_ptransactions[dict_ptrans['email']] = new_emails"
   ]
  },
  {
   "cell_type": "code",
   "execution_count": 26,
   "metadata": {},
   "outputs": [],
   "source": [
    "# set up variables\n",
    "mergedTable = []\n",
    "# create a list to keep track of which transactions were counted\n",
    "counted = [\"\"] * len(df_transactions)\n",
    "\n",
    "# for each person in the people table\n",
    "for i, row_people in df_people.iterrows():\n",
    "\n",
    "    # create an entry in the final table\n",
    "    tempList = list(row_people)\n",
    "    tempList[-1] = us_state_abbrev[tempList[-1]]\n",
    "\n",
    "    tempList.append(0) # with a total donation amount of 0\n",
    "    mergedTable.append(tempList)\n",
    "\n",
    "    # for each transaction\n",
    "    for j, row_trans in df_transactions.iterrows():\n",
    "\n",
    "        # if the first and last name matches the current person\n",
    "        if row_people[dict_people['last']]==row_trans[dict_trans['last']] and row_people[dict_people['first']]==row_trans[dict_trans['first']] and counted[j]!=\"y\":\n",
    "            \n",
    "################################################################################################################################################################################################\n",
    "            # if the middle name doesn't match exactly, check with the user\n",
    "#             if row_people[dict_people['middle']]!=row_trans[dict_trans['middle']]:\n",
    "#             ans = input(f\"Is {row_people[dict_people['first']]} {row_people[dict_people['middle']]} {row_people[dict_people['last']]} ({row_people[dict_people['state']]}) the same person as\"\n",
    "#                         + f\" {row_trans[dict_trans['first']]} {row_trans[dict_trans['last']]} ({row_trans[dict_trans['company']]}) ? [y/N]\\n\")\n",
    "            # if user says they aren't the same person, don't count this transaction\n",
    "#             if(ans.lower() != 'y'):\n",
    "#                 # this skips to the next iteration of the for loop\n",
    "#                 continue\n",
    "\n",
    "            #print(\"{} + {}\".format(finalList[-1], row2[dict_transactions[\"amt\"]]))\n",
    "################################################################################################################################################################################################\n",
    "    \n",
    "    \n",
    "            # add the transaction amount to the person's total donations\n",
    "            mergedTable[-1][-1]+=row_trans[dict_trans[\"amt\"]]\n",
    "            counted[j] = \"y\""
   ]
  },
  {
   "cell_type": "code",
   "execution_count": 27,
   "metadata": {},
   "outputs": [
    {
     "name": "stdout",
     "output_type": "stream",
     "text": [
      "\n",
      "NOTE: some transactions were not counted!\n",
      "\n",
      "\n",
      "Total: 14\n"
     ]
    }
   ],
   "source": [
    "# Track any donors not in df_people and add to mergedTable\n",
    "\n",
    "if(counted != [\"y\"] * len(df_transactions)):\n",
    "    print(\"\\nNOTE: some transactions were not counted!\\n\")\n",
    "    df_transactions['Counted'] = counted\n",
    "    count = 0\n",
    "    for i, row in df_transactions.iterrows():\n",
    "        if row['Counted'] != \"y\":\n",
    "            count+=1\n",
    "            #print(f\"{row[dict_trans['last']]}, {row[dict_trans['first']]}, ${row[dict_trans['amt']]}, {row[dict_trans['company']]}\")\n",
    "            uncountedPerson = [row[dict_trans['first']], \"\", row[dict_trans['last']],\"\", \"\", \"\", row[dict_trans['amt']]]\n",
    "            mergedTable.append(uncountedPerson)\n",
    "    print(\"\\nTotal: {}\".format(count))\n",
    "else:\n",
    "    print(\"\\nConsolidation successful.\")"
   ]
  },
  {
   "cell_type": "code",
   "execution_count": 28,
   "metadata": {
    "scrolled": false
   },
   "outputs": [],
   "source": [
    "# turn the list of donation totals into a table\n",
    "\n",
    "labels = ['first','middle','last','email','member type','state']\n",
    "labels.append('total amount')\n",
    "df_merged = pd.DataFrame(mergedTable, columns=labels)"
   ]
  },
  {
   "cell_type": "code",
   "execution_count": 29,
   "metadata": {},
   "outputs": [],
   "source": [
    "# function to get name from string format\n",
    "def get_name(name):\n",
    "    # format example:\n",
    "    # username@email.com-Firstname Lastname\n",
    "    # email or name may be missing\n",
    "    # usename@email.com-None\n",
    "    # Firstname Lastname\n",
    "    firstlast = name.split(\"-\")[-1]\n",
    "    if(\" \" in firstlast):\n",
    "        name_arr = firstlast.split()\n",
    "        # dropping middle name\n",
    "        # first and last capitalized\n",
    "        name_arr[0] = name_arr[0][0].upper() + name_arr[0][1:]\n",
    "        name_arr[-1] = name_arr[-1][0].upper() + name_arr[-1][1:]\n",
    "        return name_arr[0], name_arr[-1]\n",
    "    \n",
    "    return \"\", \"\"\n",
    "\n",
    "# first, last = get_name(\"johndeere@email.com-John Deere\")\n",
    "\n",
    "# function to get recurring info from string\n",
    "def get_recur(invoice):\n",
    "    # format example:\n",
    "    # 01/01/2021 1of999\n",
    "    # may be empty\n",
    "    if invoice != \"\":\n",
    "        return invoice.split()[-1]\n",
    "    return \"\"\n",
    "    \n",
    "# get_recur(\"01/01/2021 1of999\")    \n",
    "    \n",
    "#def merge_row(row):\n",
    "    \n",
    "    # add row into existing table\n",
    "    # (merge if person exists)"
   ]
  },
  {
   "cell_type": "code",
   "execution_count": 30,
   "metadata": {},
   "outputs": [],
   "source": [
    "# additional donations\n",
    "#merge_row(['...'])\n",
    "# ... for each person"
   ]
  },
  {
   "cell_type": "code",
   "execution_count": 31,
   "metadata": {},
   "outputs": [
    {
     "name": "stdout",
     "output_type": "stream",
     "text": [
     ]
    }
   ],
   "source": [
    "finalTable = []\n",
    "# create a list to keep track of which transactions were counted\n",
    "counted = [\"\"] * len(df_ptransactions)\n",
    "\n",
    "# for each person in the people table\n",
    "for i, row_merged in df_merged.iterrows():\n",
    "\n",
    "    # create an entry in the final table\n",
    "    # first, middle, last, email, member type, state, total amount\n",
    "    tempList = list(row_merged)\n",
    "    # recurring payment, recurring amt\n",
    "    tempList += [\"\", 0.0]\n",
    "    finalTable.append(tempList)\n",
    "\n",
    "    # for each transaction\n",
    "    for j, row_ptrans in df_ptransactions.iterrows():\n",
    "\n",
    "        # if the first and last name matches the current person\n",
    "        first_name, last_name = get_name(row_ptrans[dict_ptrans['name']])\n",
    "        recurring = get_recur(row_ptrans[dict_ptrans[\"recurring\"]])\n",
    "        email=row_ptrans[dict_ptrans[\"email\"]]\n",
    "        amt = float(row_ptrans[dict_ptrans[\"amt\"]][1:])\n",
    "        \n",
    "        if (row_merged[dict_merged['last']]==last_name and row_merged[dict_merged['first']]==first_name \\\n",
    "                and first_name!= \"\" and last_name!= \"\") \\\n",
    "                or (row_merged[dict_merged['email']].lower()==email.lower()) \\\n",
    "                and counted[j]!=\"y\":\n",
    "            \n",
    "            if row_merged[dict_merged['email']].lower()!=email.lower():\n",
    "                ans = input(f\"Is {row_merged[dict_merged['first']]} {row_merged[dict_merged['last']]} {row_merged[dict_merged['email']]} ({row_merged[dict_merged['state']]}) the same person as\"\n",
    "                        + f\" {first_name} {last_name} {email} ({row_ptrans[dict_ptrans['state']]}) ? [y/N]\\n\")\n",
    "                # if user says they aren't the same person, don't count this transaction\n",
    "                if(ans.lower() != 'y'):\n",
    "                    #this skips to the next iteration of the for loop\n",
    "                    continue\n",
    "                        \n",
    "            # add to donation total\n",
    "            finalTable[-1][-3]+=amt\n",
    "            # add recurring payment info\n",
    "            finalTable[-1][-2]=recurring\n",
    "            # add recurring payment amount\n",
    "            finalTable[-1][-1] = 0.0 if recurring == \"\" else amt\n",
    "            \n",
    "            counted[j] = \"y\""
   ]
  },
  {
   "cell_type": "code",
   "execution_count": 32,
   "metadata": {},
   "outputs": [
    {
     "name": "stdout",
     "output_type": "stream",
     "text": [
      "\n",
      "NOTE: some transactions were not counted!\n",
      "\n",
      "\n",
      "Total: 1\n"
     ]
    }
   ],
   "source": [
    "# Track any recuring donors not in df_people and add to finalTable\n",
    "\n",
    "if(counted != [\"y\"] * len(df_ptransactions)):\n",
    "    print(\"\\nNOTE: some transactions were not counted!\\n\")\n",
    "    df_ptransactions['Counted'] = counted\n",
    "    count = 0\n",
    "    \n",
    "    for i, row in df_ptransactions.iterrows():\n",
    "        if row['Counted'] != \"y\":\n",
    "            count+=1\n",
    "            #print(f\"{row[dict_ptrans['name']]}, {row[dict_ptrans['email']]}, {row[dict_ptrans['amt']]}, {row[dict_ptrans['recurring']]}\")\n",
    "            \n",
    "            first_name, last_name = get_name(row[dict_ptrans['name']])\n",
    "            recurring = get_recur(row[dict_ptrans[\"recurring\"]])\n",
    "            amt = float(row[dict_ptrans[\"amt\"]][1:])\n",
    "            email=row[dict_ptrans[\"email\"]]\n",
    "            \n",
    "            uncountedTrans = [first_name, \"\", last_name, \n",
    "                              email, \"\",\n",
    "                              row[dict_ptrans['state']], \n",
    "                              amt,\n",
    "                              recurring,\n",
    "                              0.0 if recurring == \"\" else amt,\n",
    "                             ]\n",
    "            \n",
    "            finalTable.append(uncountedTrans)\n",
    "    print(\"\\nTotal: {}\".format(count))\n",
    "    \n",
    "else:\n",
    "    print(\"\\nConsolidation successful.\")"
   ]
  },
  {
   "cell_type": "code",
   "execution_count": 33,
   "metadata": {
    "scrolled": false
   },
   "outputs": [],
   "source": [
    "# turn the table into a df\n",
    "\n",
    "labels = list(df_merged.columns) # use the same columns as the merged df\n",
    "labels += ['recurring payment', 'recurring amt']\n",
    "\n",
    "df_final = pd.DataFrame(finalTable, columns=labels)"
   ]
  },
  {
   "cell_type": "code",
   "execution_count": 34,
   "metadata": {
    "scrolled": true
   },
   "outputs": [],
   "source": [
    "# remove all non-donors from df_donors\n",
    "df_donors = df_final[df_final['total amount'] > 0]"
   ]
  },
  {
   "cell_type": "code",
   "execution_count": 35,
   "metadata": {},
   "outputs": [],
   "source": [
    "# Tag and assign to club based on donation and recurring donation amount\n",
    "taggedTable = []\n",
    "\n",
    "# for each person in the donor table\n",
    "for i, row_donors in df_donors.iterrows():\n",
    "\n",
    "    #create an entry in the final table\n",
    "    #first, middle, last, email, member type, state, total amount, recurring payment, recurring amt\n",
    "    tempList = list(row_donors)\n",
    "    tempList.append([])\n",
    "    taggedTable.append(tempList)\n",
    "    \n",
    "    #Look at total amount and tag accordingly\n",
    "    if row_donors['total amount'] >= 1000: \n",
    "        taggedTable[-1][-1].append('Presidents Club Platinum')\n",
    "    elif row_donors['total amount'] >= 500:\n",
    "        taggedTable[-1][-1].append('Presidents Club Gold')\n",
    "        \n",
    "    #TODO - ADD MORE DONATION LEVLES HERE\n",
    "    #elif row_donors['total amount']>= : \n",
    "       # taggedTable[-1][-1]=\"\"\n",
    "        \n",
    "   #Look at recuring donation amount and tag accordingly\n",
    "    if float(row_donors['recurring amt']) > 100.00:\n",
    "        taggedTable[-1][-1].append('Super Sustainer')\n",
    "        \n",
    "    elif float(row_donors['recurring amt']) > 50.00:\n",
    "        taggedTable[-1][-1].append('Presidents Club Sustainer')  \n",
    "        \n",
    "    elif float(row_donors['recurring amt']) > 25.00:\n",
    "        taggedTable[-1][-1].append('Fellow Sustainer')\n",
    "        \n",
    "    elif float(row_donors['recurring amt']) > 10.00:\n",
    "        taggedTable[-1][-1].append('Student Sustainer')\n",
    "        \n",
    "    #TODO - ADD SUSTAINER LEVELS\n",
    "    #if row_donors['recurring amt']>25.00:\n",
    "        #taggedTable[-1][-1].append(\"INSTERT TITLE HERE\")\n"
   ]
  },
  {
   "cell_type": "code",
   "execution_count": 36,
   "metadata": {},
   "outputs": [],
   "source": [
    "# turn tag list into string to look pretty\n",
    "for row in taggedTable:\n",
    "    row[-1] = \", \".join(row[-1])"
   ]
  },
  {
   "cell_type": "code",
   "execution_count": 37,
   "metadata": {},
   "outputs": [],
   "source": [
    "# turn the table into a df\n",
    "\n",
    "labels = list(df_final.columns) # use the same columns as the merged df\n",
    "labels.append('Tags')\n",
    "\n",
    "df_tagged = pd.DataFrame(taggedTable, columns=labels)\n",
    "#df_tagged"
   ]
  },
  {
   "cell_type": "code",
   "execution_count": 38,
   "metadata": {},
   "outputs": [],
   "source": [
    "# export it as a CSV\n",
    "df_tagged.to_csv('donation_totals.csv')"
   ]
  },
  {
   "cell_type": "markdown",
   "metadata": {},
   "source": [
    "## Dictionaries\n",
    "\n",
    "Different CSV files might have different names for the columns. We'll set up dictionaries for the CSV files at the top so this can be taken care of at the beginning and not cause changes throughout the code.\n",
    "\n",
    "A dictionary is basically a lookup table. Its entries are pairs, called key-value pairs. For example:\n",
    "\n",
    "|Key |Value|\n",
    "|:---|:----|\n",
    "|Apple|fruit|\n",
    "|Banana|fruit|\n",
    "|Cucumber|vegetable|\n",
    "\n",
    "The way we'll use this is to standardize the column names. We know the data will have first names and last names. So we'll always refer to those columns as `first` and `last`, and use a dictionary to translate it into the actual name in the CSV file. For example:\n",
    "\n",
    "| Key | Value|\n",
    "|:----|:-----|\n",
    "|first|FirstName|\n",
    "|last |LastName|\n",
    "\n",
    "Say the data from the CSV file is in the DataFrame `df`. We want to get the first name column. However, the columns are labeled based on their original names in the CSV file. From the example above, say their names are `FirstName` and `LastName`. (Another CSV file may instead use different names, like `first_name` and `last_name`, but we want to avoid having to change all the time and always use our convention: `first` and `last`.) What we'll do is enter the column names from the CSV file into a dictionary for that CSV file, which encapsulates the table above; call it `dict`. Here is how we write it in code:\n",
    "\n",
    "```\n",
    "dict = {\"first\":\"FirstName\", \"last\":\"LastName\"}\n",
    "```\n",
    "\n",
    "Notice that the entries are separated by commas, and the notation is `key : value`. The `{` and `}` make it a dictionary instead of an array or something else. Now when we access the data frame, we use square brackets. We'll get the names of the columns from the dictionary as `dict[\"first\"]` (\"look up the value for the key `\"first\"`, which is a string\") and `dict[\"last\"]`. Now we have the names of the Data Frame columns, so we can ask the Data Frame for those columns: `df[dict[\"first\"]]` and `df[dict[\"last\"]]`:\n",
    "\n",
    "```\n",
    "df[dict[\"first\"]]\n",
    "= df[\"FirstName\"]\n",
    "```\n",
    "\n",
    "### Function\n",
    "\n",
    "Python:\n",
    "```\n",
    "def get_first_name(df):\n",
    "    return df[dict[\"first\"]]\n",
    "```\n",
    "\n",
    "Java:\n",
    "```\n",
    "int get_first_name(DataFrame df) {\n",
    "    return df[dict[\"first\"]]\n",
    "}\n",
    "```"
   ]
  },
  {
   "cell_type": "code",
   "execution_count": null,
   "metadata": {},
   "outputs": [],
   "source": []
  },
  {
   "cell_type": "code",
   "execution_count": null,
   "metadata": {},
   "outputs": [],
   "source": []
  },
  {
   "cell_type": "code",
   "execution_count": null,
   "metadata": {},
   "outputs": [],
   "source": []
  },
  {
   "cell_type": "code",
   "execution_count": null,
   "metadata": {},
   "outputs": [],
   "source": []
  }
 ],
 "metadata": {
  "kernelspec": {
   "display_name": "Python 3",
   "language": "python",
   "name": "python3"
  },
  "language_info": {
   "codemirror_mode": {
    "name": "ipython",
    "version": 3
   },
   "file_extension": ".py",
   "mimetype": "text/x-python",
   "name": "python",
   "nbconvert_exporter": "python",
   "pygments_lexer": "ipython3",
   "version": "3.9.1"
  }
 },
 "nbformat": 4,
 "nbformat_minor": 4
}
